{
 "cells": [
  {
   "cell_type": "markdown",
   "id": "e3259ccc-859b-4533-af44-991649c80da1",
   "metadata": {
    "tags": []
   },
   "source": [
    "## **Usage example**"
   ]
  },
  {
   "cell_type": "code",
   "execution_count": 1,
   "id": "ec33045f-0882-4fc5-b686-86207886fe85",
   "metadata": {},
   "outputs": [],
   "source": [
    "import pandas as pd\n",
    "import numpy as np\n",
    "from table_styler import TableStyler \n",
    "import warnings"
   ]
  },
  {
   "cell_type": "code",
   "execution_count": 2,
   "id": "409da810-55f3-4adc-aff8-aef445c1aae4",
   "metadata": {},
   "outputs": [],
   "source": [
    "np.random.seed(42)\n",
    "warnings.filterwarnings('ignore')"
   ]
  },
  {
   "cell_type": "code",
   "execution_count": 3,
   "id": "727d93b2-1e5a-42ba-8b15-77bf129ffae6",
   "metadata": {},
   "outputs": [
    {
     "data": {
      "text/html": [
       "<div>\n",
       "<style scoped>\n",
       "    .dataframe tbody tr th:only-of-type {\n",
       "        vertical-align: middle;\n",
       "    }\n",
       "\n",
       "    .dataframe tbody tr th {\n",
       "        vertical-align: top;\n",
       "    }\n",
       "\n",
       "    .dataframe thead th {\n",
       "        text-align: right;\n",
       "    }\n",
       "</style>\n",
       "<table border=\"1\" class=\"dataframe\">\n",
       "  <thead>\n",
       "    <tr style=\"text-align: right;\">\n",
       "      <th></th>\n",
       "      <th>A</th>\n",
       "      <th>B</th>\n",
       "      <th>C</th>\n",
       "      <th>D</th>\n",
       "      <th>E</th>\n",
       "    </tr>\n",
       "  </thead>\n",
       "  <tbody>\n",
       "    <tr>\n",
       "      <th>0</th>\n",
       "      <td>0.496714</td>\n",
       "      <td>-0.463418</td>\n",
       "      <td>1.465649</td>\n",
       "      <td>-0.601707</td>\n",
       "      <td>0.738467</td>\n",
       "    </tr>\n",
       "    <tr>\n",
       "      <th>1</th>\n",
       "      <td>-0.138264</td>\n",
       "      <td>-0.465730</td>\n",
       "      <td>-0.225776</td>\n",
       "      <td>1.852278</td>\n",
       "      <td>0.171368</td>\n",
       "    </tr>\n",
       "    <tr>\n",
       "      <th>2</th>\n",
       "      <td>0.647689</td>\n",
       "      <td>0.241962</td>\n",
       "      <td>0.067528</td>\n",
       "      <td>-0.013497</td>\n",
       "      <td>-0.115648</td>\n",
       "    </tr>\n",
       "    <tr>\n",
       "      <th>3</th>\n",
       "      <td>1.523030</td>\n",
       "      <td>-1.913280</td>\n",
       "      <td>-1.424748</td>\n",
       "      <td>-1.057711</td>\n",
       "      <td>-0.301104</td>\n",
       "    </tr>\n",
       "    <tr>\n",
       "      <th>4</th>\n",
       "      <td>-0.234153</td>\n",
       "      <td>-1.724918</td>\n",
       "      <td>-0.544383</td>\n",
       "      <td>0.822545</td>\n",
       "      <td>-1.478522</td>\n",
       "    </tr>\n",
       "  </tbody>\n",
       "</table>\n",
       "</div>"
      ],
      "text/plain": [
       "          A         B         C         D         E\n",
       "0  0.496714 -0.463418  1.465649 -0.601707  0.738467\n",
       "1 -0.138264 -0.465730 -0.225776  1.852278  0.171368\n",
       "2  0.647689  0.241962  0.067528 -0.013497 -0.115648\n",
       "3  1.523030 -1.913280 -1.424748 -1.057711 -0.301104\n",
       "4 -0.234153 -1.724918 -0.544383  0.822545 -1.478522"
      ]
     },
     "execution_count": 3,
     "metadata": {},
     "output_type": "execute_result"
    }
   ],
   "source": [
    "data_tmp = np.random.randn(5,10)\n",
    "col_names = ['A', 'B', 'C', 'D', 'E']\n",
    "data = {col: val for col, val in zip(col_names, data_tmp)}\n",
    "df = pd.DataFrame(data)\n",
    "df.head()"
   ]
  },
  {
   "cell_type": "code",
   "execution_count": 4,
   "id": "6524d1f4-60cb-4ca1-b493-3ca8cc62b622",
   "metadata": {},
   "outputs": [
    {
     "name": "stdout",
     "output_type": "stream",
     "text": [
      "___________the styles.css was read successfuly___________\n"
     ]
    }
   ],
   "source": [
    "html = TableStyler(table_name='Example').style(df, y_thresh=1, r_thresh=1.5, abs_mode=True, cols=None)"
   ]
  },
  {
   "cell_type": "markdown",
   "id": "bf307161-57c2-4959-8873-5d12ffebef10",
   "metadata": {},
   "source": [
    "View result in browser as built-in tool (**IPython.display.HTML**) does not display the table correctly. You can find html file in **result** folder. If nothing was cahnged in the code you can just look at result png image in the same folder."
   ]
  },
  {
   "cell_type": "code",
   "execution_count": 5,
   "id": "2c4bead1-f57a-4f87-b18d-791a89223c18",
   "metadata": {},
   "outputs": [],
   "source": [
    "with open('result/table.html', 'w') as file:\n",
    "    file.write(html)"
   ]
  },
  {
   "cell_type": "code",
   "execution_count": null,
   "id": "692e7b47-8366-40f6-96cb-e0918a1e30b9",
   "metadata": {},
   "outputs": [],
   "source": []
  }
 ],
 "metadata": {
  "kernelspec": {
   "display_name": "Python 3 (ipykernel)",
   "language": "python",
   "name": "python3"
  },
  "language_info": {
   "codemirror_mode": {
    "name": "ipython",
    "version": 3
   },
   "file_extension": ".py",
   "mimetype": "text/x-python",
   "name": "python",
   "nbconvert_exporter": "python",
   "pygments_lexer": "ipython3",
   "version": "3.10.9"
  }
 },
 "nbformat": 4,
 "nbformat_minor": 5
}
